{
  "nbformat": 4,
  "nbformat_minor": 0,
  "metadata": {
    "colab": {
      "provenance": []
    },
    "kernelspec": {
      "name": "python3",
      "display_name": "Python 3"
    },
    "language_info": {
      "name": "python"
    }
  },
  "cells": [
    {
      "cell_type": "markdown",
      "source": [
        "# ***Assignment for introduction to python***:\n",
        "---\n",
        "\n",
        "---\n",
        "\n"
      ],
      "metadata": {
        "id": "5Vb8C9VmdSJx"
      }
    },
    {
      "cell_type": "markdown",
      "source": [
        "**Q.1) What are the types of Applications?**\n",
        "\n",
        "---"
      ],
      "metadata": {
        "id": "G5Ts0w_qc5sG"
      }
    },
    {
      "cell_type": "markdown",
      "source": [
        "ANS.\n",
        "\n",
        "1. Web Applications\n",
        "\n",
        "2. Desktop GUI Applications\n",
        "\n",
        "3. Console Applications\n",
        "\n",
        "4. Scientific and Numeric Applications\n",
        "\n",
        "5. Game Development Application\n",
        "\n",
        "6. Network Applications\n",
        "\n",
        "7. Data Science and Machine Learning Applications\n",
        "\n",
        "8. Automation and Scripting\n",
        "\n",
        "9. Embedded Systems\n",
        "\n",
        "10. Web Scraping Applications\n",
        "\n",
        "11. Artificial Intelligence and Robotics\n",
        "\n",
        "12. Financial Applications\n"
      ],
      "metadata": {
        "id": "x8REhblkCRTk"
      }
    },
    {
      "cell_type": "markdown",
      "source": [
        "**Q.2) What is programing?**\n",
        "\n",
        "---\n",
        "\n"
      ],
      "metadata": {
        "id": "wFbDyzWsdB_k"
      }
    },
    {
      "cell_type": "markdown",
      "source": [
        "ANS.\n",
        "\n",
        "Programming refers to a technological process for telling a computer which tasks to perform in order to solve problems. You can think of programming as a collaboration between humans and computers, in which humans create instructions for a computer to follow (code) in a language computers can understand."
      ],
      "metadata": {
        "id": "hNR2SCTJFWLC"
      }
    },
    {
      "cell_type": "markdown",
      "source": [
        "**Q.3) What is Python?**\n",
        "\n",
        "---\n",
        "\n"
      ],
      "metadata": {
        "id": "ydYGIaCidKsZ"
      }
    },
    {
      "cell_type": "markdown",
      "source": [
        "ANS .\n",
        "\n",
        "python is a high level ,general purpose , interpreted programming language that has readablity and simplycity.\n",
        "\n",
        "It was created by guido van rossum frist released in 1991.\n",
        "\n",
        "python has become one of the most popular versatile programming language one for clean syntax and easy to learn nurture."
      ],
      "metadata": {
        "id": "V4kiwMCL_Fkg"
      }
    },
    {
      "cell_type": "markdown",
      "source": [
        "**Q.4) Write a Python program to check if a number is positive, negative or zero.**\n",
        "\n",
        "---\n",
        "\n"
      ],
      "metadata": {
        "id": "JcdO9HG7YCEZ"
      }
    },
    {
      "cell_type": "code",
      "execution_count": null,
      "metadata": {
        "colab": {
          "base_uri": "https://localhost:8080/"
        },
        "id": "QuJIlMGyX_kg",
        "outputId": "2429f23a-1dea-4282-8bc6-62c21947516c"
      },
      "outputs": [
        {
          "output_type": "stream",
          "name": "stdout",
          "text": [
            "enter the number =45\n",
            "number is positive\n"
          ]
        }
      ],
      "source": [
        "num = int(input(\"enter the number =\"))\n",
        "if num > 0:\n",
        "  print(\"number is positive\")\n",
        "elif num < 0:\n",
        "    print(\"number is negative\")\n",
        "else:\n",
        "    print(\"number is Zero\")"
      ]
    },
    {
      "cell_type": "markdown",
      "source": [
        "**Q.5)  Write a Python program to get the Factorial number of given numbers.**\n",
        "\n",
        "---\n",
        "\n"
      ],
      "metadata": {
        "id": "myzb4UMoZOm2"
      }
    },
    {
      "cell_type": "code",
      "source": [
        "number = int(input(\"enter the factorial =\"))\n",
        "factorial = 1\n",
        "for i in range(1,number+1):\n",
        "  factorial *= i\n",
        "print(\"number of\",number,\" is\",factorial)"
      ],
      "metadata": {
        "colab": {
          "base_uri": "https://localhost:8080/"
        },
        "id": "X6f01oxFZOLs",
        "outputId": "15f45598-9807-4ca8-bfd2-fd052ee95d8c"
      },
      "execution_count": null,
      "outputs": [
        {
          "output_type": "stream",
          "name": "stdout",
          "text": [
            "enter the factorial =8\n",
            "number of 8  is 40320\n"
          ]
        }
      ]
    },
    {
      "cell_type": "markdown",
      "source": [
        "**Q.6) Write a Python program to get the Fibonacci series of given range.**\n",
        "\n",
        "---\n",
        "\n"
      ],
      "metadata": {
        "id": "CP7QYVkAcGPs"
      }
    },
    {
      "cell_type": "code",
      "source": [
        "def fibonacci(n):\n",
        "  a = 0\n",
        "  b = 1\n",
        "  if n < 0:\n",
        "    print(\"incorrect input\")\n",
        "  elif n == 1:\n",
        "    print(a)\n",
        "  else:\n",
        "    print(a)\n",
        "    print(b)\n",
        "    for i in range(2,n):\n",
        "      c = a + b\n",
        "      a = b\n",
        "      b = c\n",
        "      print(c)\n",
        "\n",
        "fibonacci(10)\n"
      ],
      "metadata": {
        "id": "xAGAL3EYcK8L",
        "colab": {
          "base_uri": "https://localhost:8080/"
        },
        "outputId": "c45d27c8-3eb0-4b59-88ec-a9d2b31b0cea"
      },
      "execution_count": null,
      "outputs": [
        {
          "output_type": "stream",
          "name": "stdout",
          "text": [
            "0\n",
            "1\n",
            "1\n",
            "2\n",
            "3\n",
            "5\n",
            "8\n",
            "13\n",
            "21\n",
            "34\n"
          ]
        }
      ]
    },
    {
      "cell_type": "markdown",
      "source": [
        "**Q.7) How memory is managed in Python?**\n",
        "\n",
        "---\n",
        "\n"
      ],
      "metadata": {
        "id": "4PCG7THucs-L"
      }
    },
    {
      "cell_type": "markdown",
      "source": [
        "ANS.\n",
        "\n",
        "Python memory management is the process of allocating and dealing with memory so that your programs can run efficiently. One advantage of Python, compared to other programming languages, is that it can perform memory management tasks automatically."
      ],
      "metadata": {
        "id": "CF8Xe4lBEc4K"
      }
    },
    {
      "cell_type": "markdown",
      "source": [
        "**Q.8) What is the purpose continuing statement in python?**\n",
        "\n",
        "---\n"
      ],
      "metadata": {
        "id": "UyVsJb1We3Y2"
      }
    },
    {
      "cell_type": "markdown",
      "source": [
        "ANS.\n",
        "\n",
        "Python Continue Statement skips the execution of the program block after the continue statement and forces the control to start the next iteration."
      ],
      "metadata": {
        "id": "OWri19YPRvCJ"
      }
    },
    {
      "cell_type": "markdown",
      "source": [
        "**Q.9) Write python program that swap two number with temp variable**\n",
        "**and without temp variable.**\n",
        "\n",
        "---\n",
        "\n"
      ],
      "metadata": {
        "id": "SniBt3lwe3HA"
      }
    },
    {
      "cell_type": "code",
      "source": [
        "num1 = int(input(\"enter the frist number : \"))\n",
        "num2 = int(input(\"enter the 2nd number : \"))\n",
        "\n",
        "print(\"before swapping num1\",num1,\"num2\",num2)\n",
        "\n",
        "temp = num1\n",
        "num1 = num2\n",
        "num2 = temp\n",
        "\n",
        "print(\"after swapping num1\",num1,\"num2\",num2)\n",
        "\n",
        "#without temp variable\n",
        "num1 = num1 + num2\n",
        "num2 = num1 - num2\n",
        "num1 = num1 - num2\n",
        "\n",
        "print(\"After swapping without using temp variable : num1\",num1,\"num2\",num2)"
      ],
      "metadata": {
        "id": "2kRRKMoOfELP",
        "colab": {
          "base_uri": "https://localhost:8080/"
        },
        "outputId": "61a6990f-f897-4faa-cce6-8e617f9729f9"
      },
      "execution_count": null,
      "outputs": [
        {
          "output_type": "stream",
          "name": "stdout",
          "text": [
            "enter the frist number : 45\n",
            "enter the 2nd number : 85\n",
            "before swapping num1 45 num2 85\n",
            "after swapping num1 85 num2 45\n",
            "After swapping without using temp variable : num1 45 num2 85\n"
          ]
        }
      ]
    },
    {
      "cell_type": "markdown",
      "source": [
        "**Q.10) Write a Python program to find whether a given number is even**\n",
        "**or odd, print out an appropriate message to the user.**\n",
        "\n",
        "---"
      ],
      "metadata": {
        "id": "lNlrFUjfezCi"
      }
    },
    {
      "cell_type": "code",
      "source": [
        "num = int(input(\"emter the number : \"))\n",
        "if num % 2 == 0:\n",
        "  print(\"given number is even\")\n",
        "else:\n",
        "  print(\"given number is odd\")"
      ],
      "metadata": {
        "id": "k8jQB7IkfGI2",
        "colab": {
          "base_uri": "https://localhost:8080/"
        },
        "outputId": "7a1b28a7-dc99-4ec0-9755-1ab2d4753d80"
      },
      "execution_count": null,
      "outputs": [
        {
          "output_type": "stream",
          "name": "stdout",
          "text": [
            "emter the number : 45\n",
            "given number is odd\n"
          ]
        }
      ]
    },
    {
      "cell_type": "markdown",
      "source": [
        "**Q.11) Write a Python program to test whether a passed letter is a vowel**\n",
        "**or not.**\n",
        "\n",
        "---\n",
        "\n"
      ],
      "metadata": {
        "id": "oaOOdJKafJCW"
      }
    },
    {
      "cell_type": "code",
      "source": [
        "num = input(\"enter a string =\")\n",
        "if \"a\" in num or \"e\" in num or \"i\" in num or \"o\" in num or \"u\" in num:\n",
        "  print(\"vowel\")\n",
        "else:\n",
        "  print(\"Consonant\")"
      ],
      "metadata": {
        "colab": {
          "base_uri": "https://localhost:8080/"
        },
        "id": "vT0Q9m4ufU-5",
        "outputId": "6679a9f3-b49b-4391-dd22-093eb6799644"
      },
      "execution_count": null,
      "outputs": [
        {
          "output_type": "stream",
          "name": "stdout",
          "text": [
            "enter a string =sandhya\n",
            "vowel\n"
          ]
        }
      ]
    },
    {
      "cell_type": "markdown",
      "source": [
        "**Q.12) Write a Python program to sum of three given integers. However, if**\n",
        "**two values are equal sum will be zero.**\n",
        "\n",
        "---\n",
        "\n"
      ],
      "metadata": {
        "id": "IjaeEK9sg76-"
      }
    },
    {
      "cell_type": "code",
      "source": [
        "num1 = int(input(\"enter a num =\"))\n",
        "num2 = int(input(\"enter a num =\"))\n",
        "num3 = int(input(\"enter a num =\"))\n",
        "if num1 == num2 or num2 == num3 or num3 == num1:\n",
        "  print(\"number is zero\")\n",
        "else:\n",
        "  print(num1+num2+num3)"
      ],
      "metadata": {
        "colab": {
          "base_uri": "https://localhost:8080/"
        },
        "id": "V_9xCG-shEf4",
        "outputId": "05291803-bf68-48a7-f85d-d89f8e2daf72"
      },
      "execution_count": null,
      "outputs": [
        {
          "output_type": "stream",
          "name": "stdout",
          "text": [
            "enter a num =8\n",
            "enter a num =7\n",
            "enter a num =8\n",
            "number is zero\n"
          ]
        }
      ]
    },
    {
      "cell_type": "markdown",
      "source": [
        "**Q.13) Write a Python program that will return true if the two given**\n",
        "**integer values are equal or their sum or difference is 5.**\n",
        "\n",
        "---\n",
        "\n"
      ],
      "metadata": {
        "id": "IWBhTvXZjEvv"
      }
    },
    {
      "cell_type": "code",
      "source": [
        "num1 = int(input(\"enter a number =\"))\n",
        "num2 = int(input(\"enter a number =\"))\n",
        "if num1 == num2:\n",
        "  print(\"true\")\n",
        "elif (num1 + num2) == 5:\n",
        "  print(\"true\")\n",
        "elif (num1 - num2) == 5:\n",
        "  print(\"true\")\n",
        "else:\n",
        "  print(\"False\")"
      ],
      "metadata": {
        "colab": {
          "base_uri": "https://localhost:8080/"
        },
        "id": "zKq-vIC5jPLm",
        "outputId": "f5add4cf-4424-45ac-b24b-a53d93d28e96"
      },
      "execution_count": null,
      "outputs": [
        {
          "output_type": "stream",
          "name": "stdout",
          "text": [
            "enter a number =8\n",
            "enter a number =7\n",
            "False\n"
          ]
        }
      ]
    },
    {
      "cell_type": "markdown",
      "source": [
        "**Q. 14) Write a python program to sum of the first n positive integers.**\n",
        "\n",
        "---\n",
        "\n"
      ],
      "metadata": {
        "id": "-z_HNnwITZrs"
      }
    },
    {
      "cell_type": "code",
      "source": [
        "n = int(input(\"enter the number : \"))\n",
        "a = n*(n+1)//2\n",
        "print(\"enter the frist n is \",a,\"positive integer is :\",n)\n"
      ],
      "metadata": {
        "colab": {
          "base_uri": "https://localhost:8080/"
        },
        "id": "GrxGVUZ-Tx2l",
        "outputId": "5a2ced56-b168-44d9-cb46-4ea4d8c3109e"
      },
      "execution_count": null,
      "outputs": [
        {
          "output_type": "stream",
          "name": "stdout",
          "text": [
            "enter the number : 8\n",
            "enter the frist n is  36 positive integer is : 8\n"
          ]
        }
      ]
    },
    {
      "cell_type": "markdown",
      "source": [
        "**Q. 15) Write a Python program to calculate the length of a string.**\n",
        "\n",
        "---\n",
        "\n"
      ],
      "metadata": {
        "id": "FKkfz4_MY1-g"
      }
    },
    {
      "cell_type": "code",
      "source": [
        "my_str = input(\"enter my string : \")\n",
        "len(my_str)"
      ],
      "metadata": {
        "colab": {
          "base_uri": "https://localhost:8080/"
        },
        "id": "Uwn_t5nDZDq7",
        "outputId": "b3aed34a-ee38-4413-94cb-c768273be35e"
      },
      "execution_count": null,
      "outputs": [
        {
          "name": "stdout",
          "output_type": "stream",
          "text": [
            "enter my string : sandhya\n"
          ]
        },
        {
          "output_type": "execute_result",
          "data": {
            "text/plain": [
              "7"
            ]
          },
          "metadata": {},
          "execution_count": 10
        }
      ]
    },
    {
      "cell_type": "markdown",
      "source": [
        "**Q. 16) Write a Python program to count the number of characters**\n",
        "**(character frequency) in a string**\n",
        "\n",
        "---"
      ],
      "metadata": {
        "id": "0_znESYkZps7"
      }
    },
    {
      "cell_type": "code",
      "source": [
        "def char_frequency(str1):\n",
        "  frequency = {}\n",
        "  for i in str1:\n",
        "    keys = frequency.keys()\n",
        "    if i in keys:\n",
        "      frequency[i] += 1\n",
        "    else:\n",
        "      frequency[i] = 1\n",
        "      return frequency\n",
        "print(char_frequency(\"google.com\"))"
      ],
      "metadata": {
        "colab": {
          "base_uri": "https://localhost:8080/"
        },
        "id": "bbEA7e6_bOq_",
        "outputId": "83d87927-4c23-425d-9c16-248af5a9b5b6"
      },
      "execution_count": null,
      "outputs": [
        {
          "output_type": "stream",
          "name": "stdout",
          "text": [
            "{'g': 1}\n"
          ]
        }
      ]
    },
    {
      "cell_type": "markdown",
      "source": [
        "**Q.17) What are negative indexes and why are they used?**\n",
        "\n",
        "---"
      ],
      "metadata": {
        "id": "peFrT658cY0m"
      }
    },
    {
      "cell_type": "markdown",
      "source": [
        "ANS.\n",
        "\n",
        "Negative indexing allows you to access elements of a sequence from the end, using negative numbers as indexes. This can be useful for getting the last few elements of a sequence, reversing a sequence, or performing other operations that require accessing elements from the end."
      ],
      "metadata": {
        "id": "9ZrqmpooE1EX"
      }
    },
    {
      "cell_type": "markdown",
      "source": [
        "**Q.18) Write a Python program to count occurrences of a substring in a string.**\n",
        "\n",
        "---\n",
        "\n"
      ],
      "metadata": {
        "id": "5ntQwJAdcikx"
      }
    },
    {
      "cell_type": "code",
      "source": [
        "def count_substring_occurrences(string, substring):\n",
        "    return string.count(substring)\n",
        "string = \"sandhya lalabhai rami , bunty lalabhai rami\"\n",
        "substring = \"rami\"\n",
        "count  = count_substring_occurrences(string, substring)\n",
        "print(\"The substring \",substring,\"occurs\" ,count,\"times in the string \",string,\".\")"
      ],
      "metadata": {
        "colab": {
          "base_uri": "https://localhost:8080/"
        },
        "id": "09DtpbkEcrg_",
        "outputId": "2f74c39f-8bf1-43de-e45d-73bf17a28182"
      },
      "execution_count": null,
      "outputs": [
        {
          "output_type": "stream",
          "name": "stdout",
          "text": [
            "The substring  rami occurs 2 times in the string  sandhya lalabhai rami , bunty lalabhai rami .\n"
          ]
        }
      ]
    },
    {
      "cell_type": "markdown",
      "source": [
        "**Q. 19) Write a Python program to count the occurrences of each word in a**  \n",
        "**Page 17 of 28 given sentence**\n",
        "\n",
        "---"
      ],
      "metadata": {
        "id": "5vWGbWY9cszV"
      }
    },
    {
      "cell_type": "code",
      "source": [
        "def count_words(sentence):\n",
        "  words = sentence.split()\n",
        "  words_count = {}\n",
        "  for i in words:\n",
        "    if i in words_count:\n",
        "      words_count[i] += 1\n",
        "    else:\n",
        "      words_count[i] = 1\n",
        "  print(words_count)\n",
        "sentence = \"hello i am sandhya,i am from kalol.Welcome to the world of Python.\"\n",
        "print(\"Word count in the sentence\",sentence)\n"
      ],
      "metadata": {
        "colab": {
          "base_uri": "https://localhost:8080/"
        },
        "id": "WbFcFmyls4CT",
        "outputId": "5463ffe7-41c8-4514-f63a-4fa956593e3f"
      },
      "execution_count": null,
      "outputs": [
        {
          "output_type": "stream",
          "name": "stdout",
          "text": [
            "Word count in the sentence hello i am sandhya,i am from kalol.Welcome to the world of Python.\n"
          ]
        }
      ]
    },
    {
      "cell_type": "markdown",
      "source": [
        "**Q. 20) Write a Python program to get a single string from two given strings,**\n",
        "**separated by a space and swap the first two characters of each string.**\n",
        "\n",
        "---"
      ],
      "metadata": {
        "id": "2mp8WuWtdA4c"
      }
    },
    {
      "cell_type": "code",
      "source": [
        "my_str1 = input(\"enter the string1 : \")\n",
        "my_str2 = input(\"enter the string : \")\n",
        "\n",
        "new_str1 = my_str2[:2] + my_str1[2:]\n",
        "new_str2 = my_str1[:2] + my_str2[2:]\n",
        "\n",
        "new_str = new_str1 + \" \" + new_str2\n",
        "\n",
        "print(new_str)"
      ],
      "metadata": {
        "id": "IBh7P4nCdKNB",
        "colab": {
          "base_uri": "https://localhost:8080/"
        },
        "outputId": "bf73ec1c-de5e-4684-d503-cba73a970431"
      },
      "execution_count": null,
      "outputs": [
        {
          "output_type": "stream",
          "name": "stdout",
          "text": [
            "enter the string1 : sandhya\n",
            "enter the string : rami\n",
            "randhya sami\n"
          ]
        }
      ]
    },
    {
      "cell_type": "markdown",
      "source": [
        "**Q. 21) Write a Python program to add 'in' at the end of a given string (length**\n",
        "**should be at least 3). If the given string already ends with 'ing' then**\n",
        "**add 'ly' instead if the string length of the given string is less than 3,**\n",
        "**leave it unchanged.**\n",
        "\n",
        "---\n",
        "\n"
      ],
      "metadata": {
        "id": "JzdkSeOv2HsK"
      }
    },
    {
      "cell_type": "code",
      "source": [
        "def modify_str(s):\n",
        "  if len(s) < 3:\n",
        "    return s\n",
        "  elif s.endswith('ing'):\n",
        "    return s + \"ly\"\n",
        "  else:\n",
        "    return s + \"ing\"\n",
        "\n",
        "mystr1 = [\"sandhya\",\"dipty\",\"neha\"]\n",
        "strings = [modify_str(s) for s in mystr1]\n",
        "\n",
        "for i , modified in zip(mystr1,strings):\n",
        "  print(\"mystr\",i,\"modified : \",modified)"
      ],
      "metadata": {
        "colab": {
          "base_uri": "https://localhost:8080/"
        },
        "id": "iV6La2o82h9C",
        "outputId": "ac5cb758-8a4b-4921-fe02-4bc097f67fa8"
      },
      "execution_count": null,
      "outputs": [
        {
          "output_type": "stream",
          "name": "stdout",
          "text": [
            "mystr sandhya modified :  sandhyaing\n",
            "mystr dipty modified :  diptying\n",
            "mystr neha modified :  nehaing\n"
          ]
        }
      ]
    },
    {
      "cell_type": "markdown",
      "source": [
        "**Q. 22) Write a Python function to reverses a string if its length is a multiple**\n",
        "**of 4.**\n",
        "\n",
        "---\n",
        "\n"
      ],
      "metadata": {
        "id": "kKZWJs86g5rx"
      }
    },
    {
      "cell_type": "code",
      "source": [
        "name = input(\"enter a name : \")\n",
        "if len(name) % 4 == 0:\n",
        "  print(name[::-1])\n",
        "else:\n",
        "  print(name)"
      ],
      "metadata": {
        "colab": {
          "base_uri": "https://localhost:8080/"
        },
        "id": "TV553vl9hgtG",
        "outputId": "47bb4bb9-30cd-4c06-8ad9-7703496209db"
      },
      "execution_count": null,
      "outputs": [
        {
          "output_type": "stream",
          "name": "stdout",
          "text": [
            "enter a name : sand\n",
            "dnas\n"
          ]
        }
      ]
    },
    {
      "cell_type": "markdown",
      "source": [
        "**Q. 23) Write a Python program to get a string made of the first 2 and the last**\n",
        "**2 chars from a given a string. If the string length is less than 2, return**\n",
        "**instead of the empty string.**\n",
        "\n",
        "---\n",
        "\n"
      ],
      "metadata": {
        "id": "ICNLCyPKm_3P"
      }
    },
    {
      "cell_type": "code",
      "source": [
        "string = input(\"enter a string : \")\n",
        "if len(string) < 2:\n",
        "  print(\"string is a : \",\" \")\n",
        "else:\n",
        "  print(string[:2]+string[-2:])"
      ],
      "metadata": {
        "colab": {
          "base_uri": "https://localhost:8080/"
        },
        "id": "5WDevkDYnXsM",
        "outputId": "87a70470-5ef1-423c-c708-c6b82ea6467c"
      },
      "execution_count": null,
      "outputs": [
        {
          "output_type": "stream",
          "name": "stdout",
          "text": [
            "enter a string : sandhya\n",
            "saya\n"
          ]
        }
      ]
    },
    {
      "cell_type": "markdown",
      "source": [
        "**Q. 24) Write a Python function to insert a string in the middle of a string.**\n",
        "\n",
        "---\n",
        "\n"
      ],
      "metadata": {
        "id": "DlFSOG8nogS4"
      }
    },
    {
      "cell_type": "code",
      "source": [
        "string = input(\"enter a string : \")\n",
        "print(string[:2]+\"insert\"+string[2::])"
      ],
      "metadata": {
        "colab": {
          "base_uri": "https://localhost:8080/"
        },
        "id": "hpMIIjqDoufN",
        "outputId": "6a779e12-f19e-4712-b428-ba5cc82541a0"
      },
      "execution_count": null,
      "outputs": [
        {
          "output_type": "stream",
          "name": "stdout",
          "text": [
            "enter a string : sandhya\n",
            "sainsertndhya\n"
          ]
        }
      ]
    },
    {
      "cell_type": "markdown",
      "source": [
        "**Q. 25) What is List? How will you reverse a list?**\n",
        "\n",
        "---\n",
        "\n"
      ],
      "metadata": {
        "id": "SqAdLh_Yp8-B"
      }
    },
    {
      "cell_type": "markdown",
      "source": [
        "ANS.  What is List\n",
        "\n",
        "In Python, a list is a built-in data type that is used to store collections of items. Lists are ordered, mutable (changeable), and allow duplicate elements. They are defined by enclosing the items in square brackets [], separated by commas. Lists can contain items of different types, including other lists."
      ],
      "metadata": {
        "id": "T_hMiQiWrv6R"
      }
    },
    {
      "cell_type": "code",
      "source": [
        "# How will you reverse a list?\n",
        "my_list = [\"sandhya\",\"neha\",\"dipty\",\"Avika\"]\n",
        "my_list_reverses = my_list[::-1]\n",
        "print(my_list_reverses)"
      ],
      "metadata": {
        "colab": {
          "base_uri": "https://localhost:8080/"
        },
        "id": "ud2gJHCopgRs",
        "outputId": "8eed3704-9336-4b9f-813e-db8ce7c5b1df"
      },
      "execution_count": null,
      "outputs": [
        {
          "output_type": "stream",
          "name": "stdout",
          "text": [
            "['Avika', 'dipty', 'neha', 'sandhya']\n"
          ]
        }
      ]
    },
    {
      "cell_type": "markdown",
      "source": [
        "**Q. 26) How will you remove last object from a list?**\n",
        "\n",
        "---"
      ],
      "metadata": {
        "id": "UgrmZOppsYwp"
      }
    },
    {
      "cell_type": "code",
      "source": [
        "# Using pop() Method\n",
        "my_list = [\"sandhya\",\"neha\",\"dipty\",\"Avika\"]\n",
        "my_list.pop()\n",
        "print(\"Using pop() : \",my_list)\n",
        "\n",
        "# Using Slicing\n",
        "\n",
        "my_list[-1]\n",
        "print(\"Using Slicing : \",my_list)"
      ],
      "metadata": {
        "colab": {
          "base_uri": "https://localhost:8080/"
        },
        "id": "3fdrk3HsskkG",
        "outputId": "5f83fd07-5e99-4435-e44b-45a39613b6b3"
      },
      "execution_count": null,
      "outputs": [
        {
          "output_type": "stream",
          "name": "stdout",
          "text": [
            "Using pop() :  ['sandhya', 'neha', 'dipty']\n",
            "Using Slicing :  ['sandhya', 'neha', 'dipty']\n"
          ]
        }
      ]
    },
    {
      "cell_type": "markdown",
      "source": [
        "**Q. 27) Suppose list1 is [2, 33, 222, 14, and 25], what is list1 [1]?**\n",
        "\n",
        "---"
      ],
      "metadata": {
        "id": "njj1gSB4t3jG"
      }
    },
    {
      "cell_type": "code",
      "source": [
        "list1 = [2, 33, 222, 14, 25]\n",
        "print(\"list1 is list[1] :\",list1 [1])"
      ],
      "metadata": {
        "colab": {
          "base_uri": "https://localhost:8080/"
        },
        "id": "3fg_raYsuPnt",
        "outputId": "36e8378a-a210-4e96-dfb3-7b6af1799f89"
      },
      "execution_count": null,
      "outputs": [
        {
          "output_type": "stream",
          "name": "stdout",
          "text": [
            "list1 is list[1] : 33\n"
          ]
        }
      ]
    },
    {
      "cell_type": "markdown",
      "source": [
        "**Q. 28) Differentiate between append () and extend () methods?**\n",
        "\n",
        "---\n",
        "\n"
      ],
      "metadata": {
        "id": "4YCbrGkhu_gF"
      }
    },
    {
      "cell_type": "markdown",
      "source": [
        "ans.\n",
        "\n",
        "The append() method adds a single element to the end of the list while the extend() method adds all the elements of an iterable to the end of the list"
      ],
      "metadata": {
        "id": "fBXb_x7VFC6U"
      }
    },
    {
      "cell_type": "markdown",
      "source": [
        "**Q. 29) Write a Python function to get the largest number, smallest num and sum** **of all from a list.**\n",
        "\n",
        "---"
      ],
      "metadata": {
        "id": "zrWbN7TivKBQ"
      }
    },
    {
      "cell_type": "code",
      "source": [
        "my_list = [13,45,85,75,95,88,100]\n",
        "print(my_list)\n",
        "\n",
        "largest = max(my_list)\n",
        "smallest = min(my_list)\n",
        "total_sum = sum(my_list)\n",
        "\n",
        "print(\"largest : \",largest)\n",
        "print(\"smallest : \",smallest)\n",
        "print(\"sum : \",total_sum)"
      ],
      "metadata": {
        "colab": {
          "base_uri": "https://localhost:8080/"
        },
        "id": "zs0ZudZcw98l",
        "outputId": "7f1814f6-532f-4859-f5b2-6c228d2cc884"
      },
      "execution_count": null,
      "outputs": [
        {
          "output_type": "stream",
          "name": "stdout",
          "text": [
            "[13, 45, 85, 75, 95, 88, 100]\n",
            "largest :  100\n",
            "smallest :  13\n",
            "sum :  501\n"
          ]
        }
      ]
    },
    {
      "cell_type": "markdown",
      "source": [
        "**Q. 30) How will you compare two lists?**\n",
        "\n",
        "---"
      ],
      "metadata": {
        "id": "JvIe_BM5ydL_"
      }
    },
    {
      "cell_type": "code",
      "source": [
        "my_list1 = [4,5,1,8,9]\n",
        "my_list2 = [4,5,8,9,10]\n",
        "if my_list1 == my_list2:\n",
        "  print(\"True\")\n",
        "else:\n",
        "  print(\"False\")"
      ],
      "metadata": {
        "colab": {
          "base_uri": "https://localhost:8080/"
        },
        "id": "n42hK4e1ylw3",
        "outputId": "5453b599-1938-4646-a78c-52aeac6f2f26"
      },
      "execution_count": null,
      "outputs": [
        {
          "output_type": "stream",
          "name": "stdout",
          "text": [
            "False\n"
          ]
        }
      ]
    },
    {
      "cell_type": "markdown",
      "source": [
        "**Q. 31) Write a Python program to count the number of strings where the string**  \n",
        "**length is 2 or more and the first and last character are same from a given list** **of strings.**\n",
        "\n",
        "---"
      ],
      "metadata": {
        "id": "A3Ny_wB3zsGc"
      }
    },
    {
      "cell_type": "code",
      "source": [
        "my_str = [\"sandhya\",\"rami\",\"neha\"]\n",
        "count = 0\n",
        "for i in my_str:\n",
        "  if len(my_str) >= 2 and my_str[0] == my_str[-1]:\n",
        "    count += 1\n",
        "print(count)"
      ],
      "metadata": {
        "id": "BI7hoA3N0jgh",
        "colab": {
          "base_uri": "https://localhost:8080/"
        },
        "outputId": "70794c1e-facd-4601-f2fb-45df902147a8"
      },
      "execution_count": null,
      "outputs": [
        {
          "output_type": "stream",
          "name": "stdout",
          "text": [
            "0\n"
          ]
        }
      ]
    },
    {
      "cell_type": "markdown",
      "source": [
        "**Q. 32) Write a Python program to remove duplicates from a list.**\n",
        "\n",
        "---"
      ],
      "metadata": {
        "id": "ROKaRo4Q5TBI"
      }
    },
    {
      "cell_type": "code",
      "source": [
        "mylist = [5,8,4,2,9,8,5,6,2,2,1]\n",
        "myset = set(mylist)\n",
        "mylist1 = list(myset)\n",
        "print(\"remove duplicates is = \",mylist1)"
      ],
      "metadata": {
        "colab": {
          "base_uri": "https://localhost:8080/"
        },
        "id": "RNUyPmUe5dOA",
        "outputId": "e1e241f1-9299-47fe-bab4-e4b5b598123f"
      },
      "execution_count": null,
      "outputs": [
        {
          "output_type": "stream",
          "name": "stdout",
          "text": [
            "remove duplicates is =  [1, 2, 4, 5, 6, 8, 9]\n"
          ]
        }
      ]
    },
    {
      "cell_type": "markdown",
      "source": [
        "**Q. 33) Write a Python program to check a list is empty or not.**\n",
        "\n",
        "---"
      ],
      "metadata": {
        "id": "dm3vLL-05-FA"
      }
    },
    {
      "cell_type": "code",
      "source": [
        "mylist = [5,8,4,2,9,8,5,6,2,2,1]\n",
        "if mylist == 0 :\n",
        "  print(\"list is  empty\")\n",
        "else:\n",
        "  print(\"list is not empty\")"
      ],
      "metadata": {
        "colab": {
          "base_uri": "https://localhost:8080/"
        },
        "id": "JoEIU7vG6Kr7",
        "outputId": "e07fcc0e-6966-4277-b8bd-59814416882b"
      },
      "execution_count": null,
      "outputs": [
        {
          "output_type": "stream",
          "name": "stdout",
          "text": [
            "list is not empty\n"
          ]
        }
      ]
    },
    {
      "cell_type": "markdown",
      "source": [
        "**Q. 34) Write a Python function that takes two lists and returns true if they**\n",
        "**have at least one common member.**\n",
        "\n",
        "---"
      ],
      "metadata": {
        "id": "2QcPF_cg634B"
      }
    },
    {
      "cell_type": "code",
      "source": [
        "list1 = [\"sandhya\",\"rami\",\"neha\"]\n",
        "list2 = [4,8,9,2,4,\"sandhya\",8,9]\n",
        "set1 = set(list1)\n",
        "list3 = set1.intersection(list2)\n",
        "print(\"common member is : \",list3)"
      ],
      "metadata": {
        "colab": {
          "base_uri": "https://localhost:8080/"
        },
        "id": "F1Dq7U1m7FH0",
        "outputId": "e6dccc21-a969-4b20-8a4e-6b19efe81198"
      },
      "execution_count": null,
      "outputs": [
        {
          "output_type": "stream",
          "name": "stdout",
          "text": [
            "common member is :  {'sandhya'}\n"
          ]
        }
      ]
    },
    {
      "cell_type": "markdown",
      "source": [
        "**Q. 35) Write a Python program to generate and print a list of first and last 5**\n",
        "**elements where the values are square of numbers between 1 and 30.**\n",
        "\n",
        "---"
      ],
      "metadata": {
        "id": "DoJi6iCQ9bnG"
      }
    },
    {
      "cell_type": "code",
      "source": [
        "def generate_list():\n",
        "  square = [i ** 2 for i in range(1,31)]\n",
        "  print(\"frist 5 elementa of list : \",square[:5])\n",
        "  print(\"last 5 elementa of list : \",square[-5:])\n",
        "generate_list()"
      ],
      "metadata": {
        "colab": {
          "base_uri": "https://localhost:8080/"
        },
        "id": "BV3WjpEI9sHr",
        "outputId": "a050d481-cd86-4d68-dcf7-90912b6db4af"
      },
      "execution_count": null,
      "outputs": [
        {
          "output_type": "stream",
          "name": "stdout",
          "text": [
            "frist 5 elementa of list :  [1, 4, 9, 16, 25]\n",
            "last 5 elementa of list :  [676, 729, 784, 841, 900]\n"
          ]
        }
      ]
    },
    {
      "cell_type": "markdown",
      "source": [
        "**Q. 36) Write a Python function that takes a list and returns a new list with**\n",
        "**unique elements of the first list.**\n",
        "\n",
        "---"
      ],
      "metadata": {
        "id": "zC8dTesm__M0"
      }
    },
    {
      "cell_type": "code",
      "source": [
        "mylist = [1,5,8,8,7,7,9,9,6,6,6,4,4,2,2,1,3,5,7,8,9,0,10]\n",
        "set1 = set(mylist)\n",
        "new_mylist = list(set1)\n",
        "print(\"unique elements of the first list : \",new_mylist)"
      ],
      "metadata": {
        "colab": {
          "base_uri": "https://localhost:8080/"
        },
        "id": "ecl6jf2f885a",
        "outputId": "0f0daa89-b19d-47cc-96f5-32d609dcf18c"
      },
      "execution_count": null,
      "outputs": [
        {
          "output_type": "stream",
          "name": "stdout",
          "text": [
            "unique elements of the first list :  [0, 1, 2, 3, 4, 5, 6, 7, 8, 9, 10]\n"
          ]
        }
      ]
    },
    {
      "cell_type": "markdown",
      "source": [
        "**Q. 37) Write a Python program to convert a list of characters into a string.**\n",
        "\n",
        "---"
      ],
      "metadata": {
        "id": "JudzrX2U9uK3"
      }
    },
    {
      "cell_type": "code",
      "source": [
        "char_list = [\"S\",\"a\",\"n\",\"d\",\"h\",\"y\",\"a\"]\n",
        "char_list1 = \"\".join(char_list)\n",
        "print(char_list1)"
      ],
      "metadata": {
        "colab": {
          "base_uri": "https://localhost:8080/"
        },
        "id": "lS2cxg_e968-",
        "outputId": "4c140f7a-f882-401a-94d4-2b79fdf88dfd"
      },
      "execution_count": null,
      "outputs": [
        {
          "output_type": "stream",
          "name": "stdout",
          "text": [
            "Sandhya\n"
          ]
        }
      ]
    },
    {
      "cell_type": "markdown",
      "source": [
        "**Q. 38) Write a Python program to select an item randomly from a list.**\n",
        "\n",
        "---"
      ],
      "metadata": {
        "id": "wr-xPlW6_GB_"
      }
    },
    {
      "cell_type": "code",
      "source": [
        "import random\n",
        "\n",
        "def select_random_item(item_list):\n",
        "    return random.choice(item_list)\n",
        "\n",
        "# Example usage\n",
        "item_list = [6,4,8,7,\"sandhya\"]\n",
        "random_item = select_random_item(item_list)\n",
        "print(random_item)"
      ],
      "metadata": {
        "colab": {
          "base_uri": "https://localhost:8080/"
        },
        "id": "qJVbHL5k_XJX",
        "outputId": "665edce6-97a4-4a16-a669-b46c7ae9d030"
      },
      "execution_count": null,
      "outputs": [
        {
          "output_type": "stream",
          "name": "stdout",
          "text": [
            "8\n"
          ]
        }
      ]
    },
    {
      "cell_type": "markdown",
      "source": [
        "**Q. 39) Write a Python program to find the second smallest number in a list.**\n",
        "\n",
        "---"
      ],
      "metadata": {
        "id": "g5gY22TNAV5q"
      }
    },
    {
      "cell_type": "code",
      "source": [
        "my_list = [4,4,4,5,7,8,1,9,3,6,7,2,7]\n",
        "my_list[-2]"
      ],
      "metadata": {
        "colab": {
          "base_uri": "https://localhost:8080/"
        },
        "id": "hr9aE9eKAgjT",
        "outputId": "ead63b2c-686c-43e4-e43a-3144324c5d09"
      },
      "execution_count": null,
      "outputs": [
        {
          "output_type": "execute_result",
          "data": {
            "text/plain": [
              "2"
            ]
          },
          "metadata": {},
          "execution_count": 32
        }
      ]
    },
    {
      "cell_type": "markdown",
      "source": [
        "**Q. 40) Write a Python program to get unique values from a list**\n",
        "\n",
        "---"
      ],
      "metadata": {
        "id": "qGmeFHRKCFAW"
      }
    },
    {
      "cell_type": "code",
      "source": [
        "my_list = [4,4,4,5,7,8,1,9,3,6,7,2,7]\n",
        "unique_set = set(my_list)\n",
        "unique_list = list(unique_set)\n",
        "print(\"unique values is : \",unique_list)"
      ],
      "metadata": {
        "colab": {
          "base_uri": "https://localhost:8080/"
        },
        "id": "xABsWtiNCgdk",
        "outputId": "bc4af05c-e547-4b5f-eaad-ebaafd845059"
      },
      "execution_count": null,
      "outputs": [
        {
          "output_type": "stream",
          "name": "stdout",
          "text": [
            "unique values is :  [1, 2, 3, 4, 5, 6, 7, 8, 9]\n"
          ]
        }
      ]
    },
    {
      "cell_type": "markdown",
      "source": [
        "**Q. 41) Write a Python program to check whether a list contains a sub list**\n",
        "\n",
        "---"
      ],
      "metadata": {
        "id": "pnPxkKW6bus6"
      }
    },
    {
      "cell_type": "code",
      "source": [
        "list1 = [2,8,5,7,\"sandhya\"]\n",
        "list2 = [8,\"sandhya\"]\n",
        "if list1 in  list2:\n",
        "  print(\"False\")\n",
        "else:\n",
        "  print(\"True\")"
      ],
      "metadata": {
        "colab": {
          "base_uri": "https://localhost:8080/"
        },
        "id": "7sXVj6w1b8dT",
        "outputId": "09bcf72f-a1af-436f-d4c3-9797682ee47e"
      },
      "execution_count": null,
      "outputs": [
        {
          "output_type": "stream",
          "name": "stdout",
          "text": [
            "True\n"
          ]
        }
      ]
    },
    {
      "cell_type": "markdown",
      "source": [
        "**Q. 42) Write a Python program to split a list into different variables**\n",
        "\n",
        "---"
      ],
      "metadata": {
        "id": "qDBwXu58hkhm"
      }
    },
    {
      "cell_type": "code",
      "source": [
        "mylist = [1,2,3,4,5,6,7,8,9,10]\n",
        "a,b,c,d,e,f,g,h,i,j  = mylist\n",
        "print(a,b,c,d,e,f,g,h,i,j)"
      ],
      "metadata": {
        "colab": {
          "base_uri": "https://localhost:8080/"
        },
        "id": "WWuR0qKUhvRs",
        "outputId": "648ef13b-24be-4dd2-a213-20635502ac85"
      },
      "execution_count": null,
      "outputs": [
        {
          "output_type": "stream",
          "name": "stdout",
          "text": [
            "1 2 3 4 5 6 7 8 9 10\n"
          ]
        }
      ]
    },
    {
      "cell_type": "markdown",
      "source": [
        "**Q. 43) What is tuple? Difference between list and tuple.**\n",
        "\n",
        "---"
      ],
      "metadata": {
        "id": "cJkPSiHjjMYK"
      }
    },
    {
      "cell_type": "markdown",
      "source": [
        "ANS.\n",
        "\n",
        "In python tuple they are very similar to list.however,unlike list they are imutable meaning that they can not be change.list is a mutable,order of a elements.list are changeable element can be modify after list is created.tuple are very similar to list but tuple are imutable they can not be change"
      ],
      "metadata": {
        "id": "AHLJCthyjY-g"
      }
    },
    {
      "cell_type": "markdown",
      "source": [
        "**Q. 44) Write a Python program to create a tuple with different data types.**\n",
        "\n",
        "---"
      ],
      "metadata": {
        "id": "fDeth_SujlNH"
      }
    },
    {
      "cell_type": "code",
      "source": [
        "my_tuple = (5,8,4.5,True,\"sandhya\",9.52)\n",
        "print(my_tuple)"
      ],
      "metadata": {
        "colab": {
          "base_uri": "https://localhost:8080/"
        },
        "id": "g5_5OIpxjvqn",
        "outputId": "93465f26-9a0c-40f7-b23f-8148aa5090ba"
      },
      "execution_count": null,
      "outputs": [
        {
          "output_type": "stream",
          "name": "stdout",
          "text": [
            "(5, 8, 4.5, True, 'sandhya', 9.52)\n"
          ]
        }
      ]
    },
    {
      "cell_type": "markdown",
      "source": [
        "**Q. 45) Write a Python program to unzip a list of tuples into individual lists.**\n",
        "\n",
        "---"
      ],
      "metadata": {
        "id": "lwjew3WHkT-H"
      }
    },
    {
      "cell_type": "code",
      "source": [
        "mylist = [(13,9,2000),(\"sandhya\",\"rami\",\"neha\"),(4.5,9.5,8.58)]\n",
        "x,y,z = zip(*mylist)\n",
        "print(x)\n",
        "print(y)\n",
        "print(z)"
      ],
      "metadata": {
        "colab": {
          "base_uri": "https://localhost:8080/"
        },
        "id": "v06K36IkkdNH",
        "outputId": "8c6fb83d-524f-4e8f-8d02-18143a1de00b"
      },
      "execution_count": null,
      "outputs": [
        {
          "output_type": "stream",
          "name": "stdout",
          "text": [
            "(13, 'sandhya', 4.5)\n",
            "(9, 'rami', 9.5)\n",
            "(2000, 'neha', 8.58)\n"
          ]
        }
      ]
    },
    {
      "cell_type": "markdown",
      "source": [
        "**Q. 46) Write a Python program to convert a list of tuples into a dictionary.**\n",
        "\n",
        "---"
      ],
      "metadata": {
        "id": "O_qCUcHimW-I"
      }
    },
    {
      "cell_type": "code",
      "source": [
        "mylist = [(13,9),(\"sandhya\",\"rami\"),(4.5,9.5)]\n",
        "my_dict = dict(mylist)\n",
        "print(my_dict)"
      ],
      "metadata": {
        "colab": {
          "base_uri": "https://localhost:8080/"
        },
        "id": "MTaBAsBTmgMd",
        "outputId": "24050daa-5316-4851-b156-056d486433ce"
      },
      "execution_count": null,
      "outputs": [
        {
          "output_type": "stream",
          "name": "stdout",
          "text": [
            "{13: 9, 'sandhya': 'rami', 4.5: 9.5}\n"
          ]
        }
      ]
    },
    {
      "cell_type": "markdown",
      "source": [
        "**Q. 47) How will you create a dictionary using tuples in python?**\n",
        "\n",
        "---"
      ],
      "metadata": {
        "id": "r2HsJdm1nRay"
      }
    },
    {
      "cell_type": "code",
      "source": [
        "mytuple = ((13,9),(\"sandhya\",\"rami\"),(4.5,9.5))\n",
        "my_dict = dict(mytuple)\n",
        "print(my_dict)"
      ],
      "metadata": {
        "colab": {
          "base_uri": "https://localhost:8080/"
        },
        "id": "qGm70R4mnez4",
        "outputId": "ca242dd6-caa7-4ea1-cb92-53822ceb7547"
      },
      "execution_count": null,
      "outputs": [
        {
          "output_type": "stream",
          "name": "stdout",
          "text": [
            "{13: 9, 'sandhya': 'rami', 4.5: 9.5}\n"
          ]
        }
      ]
    },
    {
      "cell_type": "markdown",
      "source": [
        "**Q. 48) Write a Python script to sort (ascending and descending) a**\n",
        "**dictionary by value.**\n",
        "\n",
        "---"
      ],
      "metadata": {
        "id": "FU5KXO8XnqZH"
      }
    },
    {
      "cell_type": "code",
      "source": [
        "mydict = {1 : \"apple\",2 : \"banana\",3 : \"cherry\"}\n",
        "sort_dict_asc = dict(sorted(mydict.items(),key=lambda item: item[1]))\n",
        "print(sort_dict_asc)\n",
        "sort_dict_dec = dict(sorted(mydict.items(),key=lambda item: item[1],reverse=True))\n",
        "print(sort_dict_dec)"
      ],
      "metadata": {
        "colab": {
          "base_uri": "https://localhost:8080/"
        },
        "id": "PTYTpADIn-Kx",
        "outputId": "59eeebee-c7a3-42ff-d539-fef4cd6e2f17"
      },
      "execution_count": null,
      "outputs": [
        {
          "output_type": "stream",
          "name": "stdout",
          "text": [
            "{1: 'apple', 2: 'banana', 3: 'cherry'}\n",
            "{3: 'cherry', 2: 'banana', 1: 'apple'}\n"
          ]
        }
      ]
    },
    {
      "cell_type": "markdown",
      "source": [
        "**Q. 49) Write a Python script to concatenate following dictionaries to create** **a new one.**\n",
        "\n",
        "---"
      ],
      "metadata": {
        "id": "Ybw3shFErw-L"
      }
    },
    {
      "cell_type": "code",
      "source": [
        "my_dict1 = {\"a\":1,\"b\":2}\n",
        "my_dict2 = {\"c\":3,\"d\":4}\n",
        "my_dict3 = {\"e\":5,\"f\":6}\n",
        "contact_dict = {**my_dict1,**my_dict2,**my_dict3}\n",
        "print(contact_dict)"
      ],
      "metadata": {
        "colab": {
          "base_uri": "https://localhost:8080/"
        },
        "id": "7SqMnPgIsGLJ",
        "outputId": "1a4fad0c-2425-423c-ffa7-691cf42f9a6a"
      },
      "execution_count": null,
      "outputs": [
        {
          "output_type": "stream",
          "name": "stdout",
          "text": [
            "{'a': 1, 'b': 2, 'c': 3, 'd': 4, 'e': 5, 'f': 6}\n"
          ]
        }
      ]
    },
    {
      "cell_type": "markdown",
      "source": [
        "**Q. 50) Write a Python script to check if a given key already exists in a**\n",
        "**dictionary.**\n",
        "\n",
        "---"
      ],
      "metadata": {
        "id": "ZqJoFiOvwRH-"
      }
    },
    {
      "cell_type": "code",
      "source": [
        "mydict = {1 : \"apple\",2 : \"banana\",3 : \"cherry\"}\n",
        "check_key = 4\n",
        "if check_key in mydict:\n",
        "  print(\"the key\",check_key,\"exit is dictionary\")\n",
        "else:\n",
        "  print(\"the key\",check_key,\"exit is not dictionary\")\n"
      ],
      "metadata": {
        "colab": {
          "base_uri": "https://localhost:8080/"
        },
        "id": "3pisIGmawe-J",
        "outputId": "00cade00-8606-493d-9875-068d4cf42d4a"
      },
      "execution_count": null,
      "outputs": [
        {
          "output_type": "stream",
          "name": "stdout",
          "text": [
            "the key 4 exit is not dictionary\n"
          ]
        }
      ]
    },
    {
      "cell_type": "markdown",
      "source": [
        "**Q. 51) How Do You Traverse Through a Dictionary Object in Python?**\n",
        "\n",
        "---"
      ],
      "metadata": {
        "id": "6wJbbK-kz01B"
      }
    },
    {
      "cell_type": "code",
      "source": [
        "mydict = {1 : \"apple\",2 : \"banana\",3 : \"cherry\"}\n",
        "for key,value in mydict.items():\n",
        "  print(key,value)"
      ],
      "metadata": {
        "colab": {
          "base_uri": "https://localhost:8080/"
        },
        "id": "LdKyjafG12-D",
        "outputId": "c5a677f3-538e-4b3d-c5d7-a8675aaaf2df"
      },
      "execution_count": null,
      "outputs": [
        {
          "output_type": "stream",
          "name": "stdout",
          "text": [
            "1 apple\n",
            "2 banana\n",
            "3 cherry\n"
          ]
        }
      ]
    },
    {
      "cell_type": "markdown",
      "source": [
        "**Q. 52) How Do You Check the Presence of a Key in A Dictionary?**\n",
        "\n",
        "---"
      ],
      "metadata": {
        "id": "y6AFVt522VWr"
      }
    },
    {
      "cell_type": "code",
      "source": [
        "mydict = {1 : \"apple\",2 : \"banana\",3 : \"cherry\"}\n",
        "for key,value in my_dict.items():\n",
        " if check_key in mydict:\n",
        "   print(\"the key\",check_key,\"exit is dictionary\")\n",
        " else:\n",
        "   print(\"the key\",check_key,\"exit is not dictionary\")"
      ],
      "metadata": {
        "colab": {
          "base_uri": "https://localhost:8080/"
        },
        "id": "oyG8_AV3LvlE",
        "outputId": "cc4c9834-ba22-42e0-f3a7-f569a7face12"
      },
      "execution_count": null,
      "outputs": [
        {
          "output_type": "stream",
          "name": "stdout",
          "text": [
            "the key 4 exit is not dictionary\n",
            "the key 4 exit is not dictionary\n",
            "the key 4 exit is not dictionary\n"
          ]
        }
      ]
    },
    {
      "cell_type": "markdown",
      "source": [
        "**Q. 53) Write a Python script to print a dictionary where the keys are**\n",
        "**numbers between 1 and 15.**\n",
        "\n",
        "---"
      ],
      "metadata": {
        "id": "oYwv-Zd_MEQd"
      }
    },
    {
      "cell_type": "code",
      "source": [
        "my_dict = {}\n",
        "for i in range(1,16):\n",
        "  my_dict[i] = i**2\n",
        "print(my_dict)"
      ],
      "metadata": {
        "colab": {
          "base_uri": "https://localhost:8080/"
        },
        "id": "P-Xn0ag7O6KL",
        "outputId": "b4ceb966-49fc-48be-d2e0-12f1f62814f4"
      },
      "execution_count": null,
      "outputs": [
        {
          "output_type": "stream",
          "name": "stdout",
          "text": [
            "{1: 1, 2: 4, 3: 9, 4: 16, 5: 25, 6: 36, 7: 49, 8: 64, 9: 81, 10: 100, 11: 121, 12: 144, 13: 169, 14: 196, 15: 225}\n"
          ]
        }
      ]
    },
    {
      "cell_type": "markdown",
      "source": [
        "**Q. 54) Write a Python program to check multiple keys exists in a dictionary**\n",
        "\n",
        "---"
      ],
      "metadata": {
        "id": "NjkiPw_4QOWQ"
      }
    },
    {
      "cell_type": "code",
      "source": [
        "mydict = {\"name\":\"sandhya\",\"age\":22,\"roll no\":36}\n",
        "check_key = [\"name\",\"age\",\"roll no\"]\n",
        "if (key in mydict for key in check_key):\n",
        "  print(\"all keys exit in dictionary\")\n",
        "else:\n",
        "  print(\" Not all keys exit in dictionary\")"
      ],
      "metadata": {
        "colab": {
          "base_uri": "https://localhost:8080/"
        },
        "id": "s4dCgL0cQdhJ",
        "outputId": "f8d392ad-87c6-487b-dafa-eda88d8d4e0b"
      },
      "execution_count": null,
      "outputs": [
        {
          "output_type": "stream",
          "name": "stdout",
          "text": [
            "all keys exit in dictionary\n"
          ]
        }
      ]
    },
    {
      "cell_type": "markdown",
      "source": [
        "**Q. 55) Write a Python script to merge two Python dictionaries**\n",
        "\n",
        "---"
      ],
      "metadata": {
        "id": "h18y2DuhVDkE"
      }
    },
    {
      "cell_type": "code",
      "source": [
        "my_dict1 = {\"a\":1,\"b\":2}\n",
        "my_dict2 = {\"c\":3,\"d\":4}\n",
        "contact_dict = {**my_dict1,**my_dict2}\n",
        "print(contact_dict)"
      ],
      "metadata": {
        "colab": {
          "base_uri": "https://localhost:8080/"
        },
        "id": "1u0ni50JVMy7",
        "outputId": "44aec944-e541-44a9-af1f-fc78dfc8a196"
      },
      "execution_count": null,
      "outputs": [
        {
          "output_type": "stream",
          "name": "stdout",
          "text": [
            "{'a': 1, 'b': 2, 'c': 3, 'd': 4}\n"
          ]
        }
      ]
    },
    {
      "cell_type": "markdown",
      "source": [
        "**56) Write a Python program to map two lists into a dictionary**\n",
        "\n",
        " **#**\n",
        "**Sample output: Counter ({'a': 400, 'b': 400,’d’: 400, 'c': 300}).**\n",
        "\n",
        "---\n",
        "\n"
      ],
      "metadata": {
        "id": "M9f7s5s6Vh9j"
      }
    },
    {
      "cell_type": "code",
      "source": [
        "list1 = [\"a\",\"b\",\"c\",\"d\"]\n",
        "list2 = [100,200,300,400]\n",
        "mydict = dict(zip(list1,list2))\n",
        "print(mydict)"
      ],
      "metadata": {
        "colab": {
          "base_uri": "https://localhost:8080/"
        },
        "id": "-wSrdYwpV-wF",
        "outputId": "5d3f44c4-fc20-4253-ee35-8f6dabda8899"
      },
      "execution_count": null,
      "outputs": [
        {
          "output_type": "stream",
          "name": "stdout",
          "text": [
            "{'a': 100, 'b': 200, 'c': 300, 'd': 400}\n"
          ]
        }
      ]
    },
    {
      "cell_type": "markdown",
      "source": [
        "**Q. 57) Write a Python program to find the highest 3 values in a dictionary**\n",
        "\n",
        "---"
      ],
      "metadata": {
        "id": "LqaVqR00Wk-R"
      }
    },
    {
      "cell_type": "code",
      "source": [
        "my_num = {'a': 100, 'b': 200, 'c': 300, 'd': 400}\n",
        "sorted_value = sorted(my_num.values(),reverse=True)[:3]\n",
        "print(sorted_value)"
      ],
      "metadata": {
        "colab": {
          "base_uri": "https://localhost:8080/"
        },
        "id": "Ks_Vu0dtW1CZ",
        "outputId": "ea1278cb-3f4f-4b4d-aaca-33d060e534fc"
      },
      "execution_count": null,
      "outputs": [
        {
          "output_type": "stream",
          "name": "stdout",
          "text": [
            "[400, 300, 200]\n"
          ]
        }
      ]
    },
    {
      "cell_type": "markdown",
      "source": [
        "**58) Write a Python program to combine values in python list of dictionaries.**\n",
        "**Sample data: [{'item': 'item1', 'amount': 400}, {'item': 'item2', 'amount':**\n",
        "**300}, o {'item': 'item1', 'amount': 750}]**\n",
        "\n",
        "\n",
        "**Expected Output:**\n",
        "**• Counter ({'item1': 1150, 'item2': 300})**\n",
        "\n",
        "---"
      ],
      "metadata": {
        "id": "SBkH09wHYHkX"
      }
    },
    {
      "cell_type": "code",
      "source": [
        "mylist = [{'item': 'item1', 'amount': 400}, {'item': 'item2', 'amount': 300},{'item': 'item1', 'amount': 750}]\n",
        "combain_mylist = {}\n",
        "for i in mylist:\n",
        "  item = i[\"item\"]\n",
        "  amount = i[\"amount\"]\n",
        "  if item in combain_mylist:\n",
        "    combain_mylist[item] += amount\n",
        "  else:\n",
        "    combain_mylist[item] = amount\n",
        "list1 = [{\"item\": item,\"amount\" : amount} for item,amount in combain_mylist.items()]\n",
        "print(list1)"
      ],
      "metadata": {
        "colab": {
          "base_uri": "https://localhost:8080/"
        },
        "id": "okD63dUyYmUz",
        "outputId": "aeb55ea2-70e1-43ee-b64e-77b9f65fde35"
      },
      "execution_count": 74,
      "outputs": [
        {
          "output_type": "stream",
          "name": "stdout",
          "text": [
            "[{'item': 'item1', 'amount': 1150}, {'item': 'item2', 'amount': 300}]\n"
          ]
        }
      ]
    },
    {
      "cell_type": "markdown",
      "source": [
        "**Q. 59) Write a Python program to create a dictionary from a string.**\n",
        "**Note: Track the count of the letters from the string.**\n",
        "\n",
        "---"
      ],
      "metadata": {
        "id": "3grJvTZpLmMN"
      }
    },
    {
      "cell_type": "code",
      "source": [
        "my_str = \"sandhya rami\"\n",
        "count_string = {}\n",
        "for i in my_str:\n",
        "  if i in count_string:\n",
        "    count_string[i] += 1\n",
        "  else:\n",
        "    count_string[i] = 1\n",
        "print(count_string)\n"
      ],
      "metadata": {
        "id": "MBh-53vYETlC",
        "colab": {
          "base_uri": "https://localhost:8080/"
        },
        "outputId": "561b0afa-ad5c-489c-ada5-c7d6cfa3661b"
      },
      "execution_count": null,
      "outputs": [
        {
          "output_type": "stream",
          "name": "stdout",
          "text": [
            "{'s': 1, 'a': 3, 'n': 1, 'd': 1, 'h': 1, 'y': 1, ' ': 1, 'r': 1, 'm': 1, 'i': 1}\n"
          ]
        }
      ]
    },
    {
      "cell_type": "markdown",
      "source": [
        "**Q. 60) Sample string:'w3resource' Expected output: • {'3': 1,’s’: 1, 'r': 2, 'u':** **1, 'w': 1, 'c': 1, 'e': 2, 'o': 1}**\n",
        "\n",
        "---"
      ],
      "metadata": {
        "id": "JGJlGPvUPBCT"
      }
    },
    {
      "cell_type": "code",
      "source": [
        "my_str = \"w3resource\"\n",
        "count_string = {}\n",
        "for i in my_str:\n",
        "  if i in count_string:\n",
        "    count_string[i] += 1\n",
        "  else:\n",
        "    count_string[i] = 1\n",
        "print(count_string)"
      ],
      "metadata": {
        "colab": {
          "base_uri": "https://localhost:8080/"
        },
        "id": "Haw3_PIoYSvG",
        "outputId": "374841b9-1772-44a2-e38f-277bd39bf17b"
      },
      "execution_count": null,
      "outputs": [
        {
          "output_type": "stream",
          "name": "stdout",
          "text": [
            "{'w': 1, '3': 1, 'r': 2, 'e': 2, 's': 1, 'o': 1, 'u': 1, 'c': 1}\n"
          ]
        }
      ]
    },
    {
      "cell_type": "markdown",
      "source": [
        "**Q.61) Write a Python function to calculate the factorial of a number (a**\n",
        "**nonnegative integer)**\n",
        "\n",
        "---"
      ],
      "metadata": {
        "id": "gkmx00WyYnVz"
      }
    },
    {
      "cell_type": "code",
      "source": [
        "number = int(input(\"enter the factorial =\"))\n",
        "factorial < 0\n",
        "for i in range(1,number+1):\n",
        "  factorial *= i\n",
        "print(\"number of\",number,\" is\",factorial)"
      ],
      "metadata": {
        "colab": {
          "base_uri": "https://localhost:8080/"
        },
        "id": "UModCKqFZDKJ",
        "outputId": "85b9d737-e319-4b0a-9b16-031e67d28f77"
      },
      "execution_count": null,
      "outputs": [
        {
          "output_type": "stream",
          "name": "stdout",
          "text": [
            "enter the factorial =9\n",
            "number of 9  is 362880\n"
          ]
        }
      ]
    },
    {
      "cell_type": "markdown",
      "source": [
        "**Q. 62) Write a Python function to check whether a number is in a given range**\n",
        "\n",
        "---"
      ],
      "metadata": {
        "id": "qk_Cnm8Bb1Ro"
      }
    },
    {
      "cell_type": "code",
      "source": [
        "num = int(input(\"enter a number = \"))\n",
        "range1 = int(input(\"enter a number = \"))\n",
        "if num in range(1,range1):\n",
        "  print(\"number in range\")\n",
        "else:\n",
        "  print(\"number in not range\")"
      ],
      "metadata": {
        "colab": {
          "base_uri": "https://localhost:8080/"
        },
        "id": "EAexWau6cIM1",
        "outputId": "d14799df-94f4-464a-d43b-3c4bc437b8a5"
      },
      "execution_count": null,
      "outputs": [
        {
          "output_type": "stream",
          "name": "stdout",
          "text": [
            "enter a number = 10\n",
            "enter a number = 20\n",
            "number in range\n"
          ]
        }
      ]
    },
    {
      "cell_type": "markdown",
      "source": [
        "**Q. 63) Write a Python function to check whether a number is perfect or not.**\n",
        "\n",
        "---"
      ],
      "metadata": {
        "id": "yJblgiRxcyZM"
      }
    },
    {
      "cell_type": "code",
      "source": [
        "num = int(input(\"enter a number = \"))\n",
        "if num % i == 0:\n",
        "  print(\"number is perfect\")\n",
        "else:\n",
        "  print(\"number is not perfect\")"
      ],
      "metadata": {
        "colab": {
          "base_uri": "https://localhost:8080/"
        },
        "id": "7UT6FsYcdGEF",
        "outputId": "30ea92ca-0235-4bda-e02f-6c75978c3efb"
      },
      "execution_count": null,
      "outputs": [
        {
          "output_type": "stream",
          "name": "stdout",
          "text": [
            "enter a number = 0\n",
            "number is perfect\n"
          ]
        }
      ]
    },
    {
      "cell_type": "markdown",
      "source": [
        "**Q. 64) Write a Python function that checks whether a passed string is**\n",
        "**palindrome or not**\n",
        "\n",
        "---"
      ],
      "metadata": {
        "id": "-EehLWJre6NW"
      }
    },
    {
      "cell_type": "code",
      "source": [
        "my_string = input(\"enter a string = \")\n",
        "if my_string == my_string[::-1]:\n",
        "  print(\"string is palindrome\")\n",
        "else:\n",
        "  print(\"string is not palindrome\")"
      ],
      "metadata": {
        "colab": {
          "base_uri": "https://localhost:8080/"
        },
        "id": "wMMD8VMFfHmu",
        "outputId": "fd5a4fa7-1e17-4479-a948-3514b0236202"
      },
      "execution_count": null,
      "outputs": [
        {
          "output_type": "stream",
          "name": "stdout",
          "text": [
            "enter a string = sandhya\n",
            "string is not palindrome\n"
          ]
        }
      ]
    },
    {
      "cell_type": "markdown",
      "source": [
        "**Q. 65) How Many Basic Types of Functions Are Available in Python?**\n",
        "\n",
        "---"
      ],
      "metadata": {
        "id": "8MzFNQ4Qi3Wf"
      }
    },
    {
      "cell_type": "markdown",
      "source": [
        "ANS.\n",
        "\n",
        "Built-in Functions: These are pre-defined functions readily available in Python. Examples include print(), len(), range(), and type(). User-defined Functions: These are functions created by the user to perform specific tasks. They are defined using the def keyword\n",
        "\n"
      ],
      "metadata": {
        "id": "-tJvEqTUjTTQ"
      }
    },
    {
      "cell_type": "markdown",
      "source": [
        "**Q. 66) How can you pick a random item from a list or tuple?**\n",
        "\n",
        "---"
      ],
      "metadata": {
        "id": "vVkmpgfGjXXw"
      }
    },
    {
      "cell_type": "code",
      "source": [
        "# using random item in list\n",
        "\n",
        "import random\n",
        "my_list = [1,2,3,4,5,6,7,8,9]\n",
        "print(random.choice(my_list))\n",
        "\n",
        "# using random item in tuple\n",
        "import random\n",
        "my_tuple = [1,2,3,4,5,6,7,8,9]\n",
        "print(random.choice(my_tuple))"
      ],
      "metadata": {
        "colab": {
          "base_uri": "https://localhost:8080/"
        },
        "id": "xV8nmhR-jWy7",
        "outputId": "f6a1a18e-3005-4d7c-c7a4-9082a8df337e"
      },
      "execution_count": null,
      "outputs": [
        {
          "output_type": "stream",
          "name": "stdout",
          "text": [
            "9\n",
            "6\n"
          ]
        }
      ]
    },
    {
      "cell_type": "markdown",
      "source": [
        "**Q. 67) How can you pick a random item from a range?**\n",
        "\n",
        "---"
      ],
      "metadata": {
        "id": "JabMZD02kVZN"
      }
    },
    {
      "cell_type": "code",
      "source": [
        "import random\n",
        "random_number = random.randrange(1,11)\n",
        "print(random_number)"
      ],
      "metadata": {
        "colab": {
          "base_uri": "https://localhost:8080/"
        },
        "id": "fpkhTQpTlLeg",
        "outputId": "05b0e4ff-02d5-4fe4-bc37-0b08708b4c3a"
      },
      "execution_count": null,
      "outputs": [
        {
          "output_type": "stream",
          "name": "stdout",
          "text": [
            "10\n"
          ]
        }
      ]
    },
    {
      "cell_type": "markdown",
      "source": [
        "**Q. 68) How can you get a random number in python?**\n",
        "\n",
        "---"
      ],
      "metadata": {
        "id": "30hJZMLCl3ai"
      }
    },
    {
      "cell_type": "code",
      "source": [
        "import random\n",
        "random_float = random.random()\n",
        "print(random_float)"
      ],
      "metadata": {
        "colab": {
          "base_uri": "https://localhost:8080/"
        },
        "id": "4H7lJHGdmGay",
        "outputId": "8bf5be81-13df-41a7-d507-9ad71045d1e8"
      },
      "execution_count": null,
      "outputs": [
        {
          "output_type": "stream",
          "name": "stdout",
          "text": [
            "0.544526927048815\n"
          ]
        }
      ]
    },
    {
      "cell_type": "markdown",
      "source": [
        "**Q. 69) How will you set the starting value in generating random numbers?**\n",
        "\n",
        "---"
      ],
      "metadata": {
        "id": "T2CvnbVnmWzl"
      }
    },
    {
      "cell_type": "markdown",
      "source": [
        "ANS.\n",
        "\n",
        "Import the random Module: Start by importing the random module, which provides tools for generating random numbers.\n",
        "\n",
        "Use the seed() Function: The random.seed(value) function initializes the random number generator with a specific value. This ensures that the sequence of random numbers generated is reproducible.\n",
        "\n",
        "Choosing a Seed: The seed can be any integer or hashable object. Common choices include a specific number, system time, or a value derived from external sources"
      ],
      "metadata": {
        "id": "mwArjf4anNrO"
      }
    },
    {
      "cell_type": "code",
      "source": [
        "import random\n",
        "random.seed(11)\n",
        "random_num1 = random.random()\n",
        "random_num2 = random.randrange(1,50)\n",
        "random_num3 = random.uniform(1.5,9.5)\n",
        "print(\"random number between 0 to 1 : \",random_num1)\n",
        "print(\"random number range between 1 to 11 : \",random_num2)\n",
        "print(\"random number float between 1.5 to 9.5 : \",random_num3)\n"
      ],
      "metadata": {
        "colab": {
          "base_uri": "https://localhost:8080/"
        },
        "id": "nfEWBhisnpcV",
        "outputId": "1fe6f5e9-51f1-4a25-afd9-92225ff940f4"
      },
      "execution_count": null,
      "outputs": [
        {
          "output_type": "stream",
          "name": "stdout",
          "text": [
            "random number between 0 to 1 :  0.4523795535098186\n",
            "random number range between 1 to 11 :  36\n",
            "random number float between 1.5 to 9.5 :  8.354904051077996\n"
          ]
        }
      ]
    },
    {
      "cell_type": "markdown",
      "source": [
        "**Q. 70) How will you randomize the items of a list in place?**\n",
        "\n",
        "---"
      ],
      "metadata": {
        "id": "9k6gOCqhpNw_"
      }
    },
    {
      "cell_type": "code",
      "source": [
        "my_list = [\"sandhya\",\"Aarti\",\"neha\",\"Dipty\",\"bunty\"]\n",
        "random.shuffle(my_list)\n",
        "print(my_list)"
      ],
      "metadata": {
        "colab": {
          "base_uri": "https://localhost:8080/"
        },
        "id": "r5XG9x29pnR-",
        "outputId": "250273a3-3cd6-4638-ee8a-02a61b42210f"
      },
      "execution_count": null,
      "outputs": [
        {
          "output_type": "stream",
          "name": "stdout",
          "text": [
            "['Aarti', 'sandhya', 'neha', 'bunty', 'Dipty']\n"
          ]
        }
      ]
    },
    {
      "cell_type": "markdown",
      "source": [
        "**Q. 71) What is File function in python? What are keywords to create**\n",
        "**and write file.**\n",
        "\n",
        "---"
      ],
      "metadata": {
        "id": "ipRLdTkrp9vm"
      }
    },
    {
      "cell_type": "markdown",
      "source": [
        "ANS.\n",
        "\n",
        "In Python, you don't have a single \"File function\". Instead, you interact with files using built-in functions and methods.\n",
        "\n",
        "To create and write to a file, you'll primarily use these keywords and functions:\n",
        "\n",
        "1). open(): This function is used to open a file and returns a file object. The key is to use the right mode when opening:\n",
        "\n",
        "1. 'r': Read mode (default). Opens the file for reading.\n",
        "\n",
        "\n",
        "2. 'w': Write mode. Creates a new file or truncates an existing file.\n",
        "\n",
        "\n",
        "3. 'a': Append mode. Creates a new file or appends to an existing file.\n",
        "\n",
        "\n",
        "4. 'b': Binary mode. Used in combination with other modes (e.g., 'rb', 'wb').\n",
        "\n",
        "\n",
        "\n",
        "2). write(): This method of a file object is used to write a string to the file.\n",
        "\n",
        "3). close(): It's essential to close the file object after you're done writing to it to ensure that all changes are saved and resources are released."
      ],
      "metadata": {
        "id": "tz6p2HhHqTk3"
      }
    }
  ]
}